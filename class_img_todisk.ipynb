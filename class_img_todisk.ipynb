{
  "cells": [
    {
      "cell_type": "code",
      "execution_count": null,
      "metadata": {
        "id": "WVgKILpIm4Oz"
      },
      "outputs": [],
      "source": []
    },
    {
      "cell_type": "code",
      "execution_count": null,
      "metadata": {
        "colab": {
          "base_uri": "https://localhost:8080/"
        },
        "id": "caRxuyAem8Lb",
        "outputId": "10704038-562d-4161-8639-8234019348dc"
      },
      "outputs": [
        {
          "output_type": "stream",
          "name": "stdout",
          "text": [
            "Mounted at /content/drive\n"
          ]
        }
      ],
      "source": [
        "from google.colab import drive\n",
        "drive.mount('/content/drive')"
      ]
    },
    {
      "cell_type": "code",
      "source": [
        "#!mkdir /content/drive/MyDrive/new"
      ],
      "metadata": {
        "id": "QvvslsJXx2Fc"
      },
      "execution_count": null,
      "outputs": []
    },
    {
      "cell_type": "code",
      "source": [
        "#!mkdir '/content/drive/MyDrive/new/Normal Skin'"
      ],
      "metadata": {
        "id": "8ONf-4GnKXIT"
      },
      "execution_count": null,
      "outputs": []
    },
    {
      "cell_type": "code",
      "source": [
        "#!unzip '/content/drive/MyDrive/Lumpy Skin Images Dataset/Lumpy Skin Images Dataset.zip' -d  '/content/drive/MyDrive'"
      ],
      "metadata": {
        "id": "phKwP-mqzHu4"
      },
      "execution_count": null,
      "outputs": []
    },
    {
      "cell_type": "code",
      "execution_count": null,
      "metadata": {
        "id": "CeKTgtgEm2e9",
        "colab": {
          "base_uri": "https://localhost:8080/"
        },
        "outputId": "3c5e5a73-d99d-4c73-ac62-09e58c1e1bee"
      },
      "outputs": [
        {
          "output_type": "stream",
          "name": "stdout",
          "text": [
            "[INFO] loading and processing images...\n",
            "/content/drive/MyDrive/New folder (3)/Lumpy_Skin_5.png\n",
            "[INFO] loading network...\n",
            "[INFO] classifying image...\n",
            "1/1 [==============================] - 6s 6s/step\n",
            "[[('n02403003', 'ox', 0.343392), ('n03868242', 'oxcart', 0.11390222), ('n02417914', 'ibex', 0.07202412), ('n02412080', 'ram', 0.050081715), ('n02408429', 'water_buffalo', 0.022693807)]]\n",
            "1. ox: 34.34%\n",
            "2. oxcart: 11.39%\n",
            "3. ibex: 7.20%\n",
            "4. ram: 5.01%\n",
            "5. water_buffalo: 2.27%\n",
            "/content/drive/MyDrive/New folder (3)/Lumpy_Skin_84.png\n",
            "[INFO] loading network...\n",
            "[INFO] classifying image...\n",
            "1/1 [==============================] - 6s 6s/step\n",
            "[[('n01873310', 'platypus', 0.105850585), ('n02410509', 'bison', 0.04956213), ('n02403003', 'ox', 0.03272692), ('n02398521', 'hippopotamus', 0.02173045), ('n02417914', 'ibex', 0.02143126)]]\n",
            "1. platypus: 10.59%\n",
            "2. bison: 4.96%\n",
            "3. ox: 3.27%\n",
            "4. hippopotamus: 2.17%\n",
            "5. ibex: 2.14%\n",
            "/content/drive/MyDrive/New folder (3)/Lumpy_Skin_89.png\n",
            "[INFO] loading network...\n",
            "[INFO] classifying image...\n",
            "1/1 [==============================] - 5s 5s/step\n",
            "[[('n03404251', 'fur_coat', 0.23395221), ('n02100236', 'German_short-haired_pointer', 0.20299475), ('n02109047', 'Great_Dane', 0.19509587), ('n02088632', 'bluetick', 0.037026588), ('n02110341', 'dalmatian', 0.018759554)]]\n",
            "1. fur_coat: 23.40%\n",
            "2. German_short-haired_pointer: 20.30%\n",
            "3. Great_Dane: 19.51%\n",
            "4. bluetick: 3.70%\n",
            "5. dalmatian: 1.88%\n",
            "/content/drive/MyDrive/New folder (3)/Lumpy_Skin_295.png\n",
            "[INFO] loading network...\n",
            "[INFO] classifying image...\n",
            "1/1 [==============================] - 5s 5s/step\n",
            "[[('n03868242', 'oxcart', 0.67232656), ('n02403003', 'ox', 0.13339968), ('n02408429', 'water_buffalo', 0.007984616), ('n03538406', 'horse_cart', 0.0020708079), ('n03967562', 'plow', 0.0018967586)]]\n",
            "1. oxcart: 67.23%\n",
            "2. ox: 13.34%\n",
            "3. water_buffalo: 0.80%\n",
            "4. horse_cart: 0.21%\n",
            "5. plow: 0.19%\n",
            "/content/drive/MyDrive/New folder (3)/Lumpy_Skin_294.png\n",
            "[INFO] loading network...\n",
            "[INFO] classifying image...\n",
            "1/1 [==============================] - 6s 6s/step\n",
            "[[('n02403003', 'ox', 0.45630515), ('n03868242', 'oxcart', 0.100360386), ('n02074367', 'dugong', 0.025597181), ('n02100236', 'German_short-haired_pointer', 0.018255653), ('n02408429', 'water_buffalo', 0.015240401)]]\n",
            "1. ox: 45.63%\n",
            "2. oxcart: 10.04%\n",
            "3. dugong: 2.56%\n",
            "4. German_short-haired_pointer: 1.83%\n",
            "5. water_buffalo: 1.52%\n",
            "/content/drive/MyDrive/New folder (3)/Lumpy_Skin_283.png\n",
            "[INFO] loading network...\n",
            "[INFO] classifying image...\n",
            "1/1 [==============================] - 6s 6s/step\n",
            "[[('n02134084', 'ice_bear', 0.07596811), ('n02109047', 'Great_Dane', 0.0735155), ('n02403003', 'ox', 0.052449744), ('n02504013', 'Indian_elephant', 0.0369214), ('n02091134', 'whippet', 0.026737867)]]\n",
            "1. ice_bear: 7.60%\n",
            "2. Great_Dane: 7.35%\n",
            "3. ox: 5.24%\n",
            "4. Indian_elephant: 3.69%\n",
            "5. whippet: 2.67%\n",
            "/content/drive/MyDrive/New folder (3)/Lumpy_Skin_282.png\n",
            "[INFO] loading network...\n",
            "[INFO] classifying image...\n",
            "1/1 [==============================] - 6s 6s/step\n",
            "[[('n02410509', 'bison', 0.16094093), ('n02395406', 'hog', 0.11142005), ('n02403003', 'ox', 0.077347845), ('n02408429', 'water_buffalo', 0.07594195), ('n02437312', 'Arabian_camel', 0.06083369)]]\n",
            "1. bison: 16.09%\n",
            "2. hog: 11.14%\n",
            "3. ox: 7.73%\n",
            "4. water_buffalo: 7.59%\n",
            "5. Arabian_camel: 6.08%\n",
            "/content/drive/MyDrive/New folder (3)/Lumpy_Skin_31.png\n",
            "[INFO] loading network...\n",
            "[INFO] classifying image...\n",
            "1/1 [==============================] - 8s 8s/step\n",
            "[[('n03868242', 'oxcart', 0.7207191), ('n02403003', 'ox', 0.105312735), ('n02408429', 'water_buffalo', 0.0017936925), ('n03538406', 'horse_cart', 0.0014580399), ('n02395406', 'hog', 0.00077788456)]]\n",
            "1. oxcart: 72.07%\n",
            "2. ox: 10.53%\n",
            "3. water_buffalo: 0.18%\n",
            "4. horse_cart: 0.15%\n",
            "5. hog: 0.08%\n",
            "/content/drive/MyDrive/New folder (3)/Lumpy_Skin_280.png\n",
            "[INFO] loading network...\n",
            "[INFO] classifying image...\n",
            "1/1 [==============================] - 6s 6s/step\n",
            "[[('n01930112', 'nematode', 0.64807737), ('n01990800', 'isopod', 0.008767658), ('n03476684', 'hair_slide', 0.0075586406), ('n03929660', 'pick', 0.0069013), ('n01704323', 'triceratops', 0.006886613)]]\n",
            "1. nematode: 64.81%\n",
            "2. isopod: 0.88%\n",
            "3. hair_slide: 0.76%\n",
            "4. pick: 0.69%\n",
            "5. triceratops: 0.69%\n",
            "/content/drive/MyDrive/New folder (3)/Lumpy_Skin_48.png\n",
            "[INFO] loading network...\n",
            "[INFO] classifying image...\n",
            "1/1 [==============================] - 6s 6s/step\n",
            "[[('n02105251', 'briard', 0.33203754), ('n02105505', 'komondor', 0.10238957), ('n02074367', 'dugong', 0.06378879), ('n02095889', 'Sealyham_terrier', 0.055371344), ('n02097474', 'Tibetan_terrier', 0.031978637)]]\n",
            "1. briard: 33.20%\n",
            "2. komondor: 10.24%\n",
            "3. dugong: 6.38%\n",
            "4. Sealyham_terrier: 5.54%\n",
            "5. Tibetan_terrier: 3.20%\n",
            "/content/drive/MyDrive/New folder (3)/Lumpy_Skin_96.png\n",
            "[INFO] loading network...\n",
            "[INFO] classifying image...\n",
            "1/1 [==============================] - 5s 5s/step\n",
            "[[('n02403003', 'ox', 0.17284738), ('n02395406', 'hog', 0.15424374), ('n01871265', 'tusker', 0.083553605), ('n02504013', 'Indian_elephant', 0.06687783), ('n02074367', 'dugong', 0.024889689)]]\n",
            "1. ox: 17.28%\n",
            "2. hog: 15.42%\n",
            "3. tusker: 8.36%\n",
            "4. Indian_elephant: 6.69%\n",
            "5. dugong: 2.49%\n",
            "/content/drive/MyDrive/New folder (3)/Lumpy_Skin_52.png\n",
            "[INFO] loading network...\n",
            "[INFO] classifying image...\n",
            "1/1 [==============================] - 8s 8s/step\n",
            "[[('n02403003', 'ox', 0.33309704), ('n03868242', 'oxcart', 0.12657042), ('n02408429', 'water_buffalo', 0.07163552), ('n02109047', 'Great_Dane', 0.032603033), ('n02437312', 'Arabian_camel', 0.017271882)]]\n",
            "1. ox: 33.31%\n",
            "2. oxcart: 12.66%\n",
            "3. water_buffalo: 7.16%\n",
            "4. Great_Dane: 3.26%\n",
            "5. Arabian_camel: 1.73%\n",
            "/content/drive/MyDrive/New folder (3)/Lumpy_Skin_3.png\n",
            "[INFO] loading network...\n",
            "[INFO] classifying image...\n",
            "1/1 [==============================] - 6s 6s/step\n",
            "[[('n02058221', 'albatross', 0.25146365), ('n02117135', 'hyena', 0.05738198), ('n02403003', 'ox', 0.046433438), ('n02134084', 'ice_bear', 0.02781464), ('n02077923', 'sea_lion', 0.022796249)]]\n",
            "1. albatross: 25.15%\n",
            "2. hyena: 5.74%\n",
            "3. ox: 4.64%\n",
            "4. ice_bear: 2.78%\n",
            "5. sea_lion: 2.28%\n"
          ]
        }
      ],
      "source": [
        "import os\n",
        "import keras\n",
        "import cv2\n",
        "import argparse\n",
        "import numpy as np\n",
        "from keras.applications.vgg16 import VGG16\n",
        "# from tensorflow.keras.applications import ConvNeXtXLarge \n",
        "from tensorflow.keras.applications import InceptionV3\n",
        "from tensorflow.keras.applications import EfficientNetV2L\n",
        "from keras.preprocessing import image as image_utils\n",
        "from keras.applications.imagenet_utils import preprocess_input, decode_predictions\n",
        "import keras.utils as image\n",
        "# from tensorflow.keras.utils import load_img, img_to_array \n",
        "from keras.utils import load_img, img_to_array\n",
        "from google.colab.patches import cv2_imshow\n",
        "# Construct argument parser and parse the arguments\n",
        "argument_parser = argparse.ArgumentParser()\n",
        "cntt=0\n",
        "\n",
        "# First two arguments specifies our only argument \"image\" with both short-/longhand versions where either \n",
        "# can be used\n",
        "# This is a required argument, noted by required=True, the help gives additional info in the terminal\n",
        "# if needed\n",
        "argument_parser.add_argument(\"-i\", \"--image\", required=True, help=\"path to the input image\")\n",
        "\n",
        "# Set path to files\n",
        "img_path = \"/content/drive/MyDrive/New folder (3)\"\n",
        "files = os.listdir(img_path)\n",
        "print(\"[INFO] loading and processing images...\")\n",
        "\n",
        "for filename in files:\n",
        "    \n",
        "    # Passing the entire path of the image file\n",
        "    file= os.path.join(img_path, filename)\n",
        "    print(file)\n",
        "    \n",
        "    # Load original via OpenCV, so we can draw on it and display it on our screen\n",
        "    original = cv2.imread(file)\n",
        "\n",
        "    image = keras.utils.load_img(file, target_size=(480, 480))\n",
        "    # image = keras.utils.load_img(file, target_size=(299, 299))\n",
        "    image = img_to_array(image)\n",
        "\n",
        "    image = np.expand_dims(image, axis=0)\n",
        "    image = preprocess_input(image)\n",
        "\n",
        "\n",
        "    print(\"[INFO] loading network...\")\n",
        "    model = EfficientNetV2L(weights=\"imagenet\")    # Load the VGG16 network pre-trained on the ImageNet dataset\n",
        "    # model = InceptionV3(weights=\"imagenet\")\n",
        "    print(\"[INFO] classifying image...\")\n",
        "    predictions = model.predict(image)   # Classify the image (NumPy array with 1000 entries)\n",
        "    P = decode_predictions(predictions)  # Get the ImageNet Unique ID of the label, along with human-readable label\n",
        "    print(P)\n",
        "    cntt+=1    \n",
        "\n",
        "    # Loop over the predictions and display the rank-5 (5 epochs) predictions + probabilities to our terminal\n",
        "    for (i, (imagenetID, label, prob)) in enumerate(P[0]):\n",
        "        print(\"{}. {}: {:.2f}%\".format(i + 1, label, prob * 100))\n",
        "        \n",
        "        if label == 'ox' or label == 'oxcart' or label == 'water_buffalo':\n",
        "          # print(\"yes\")\n",
        "          filename1 = \"/content/drive/MyDrive/new/Normal Skin\" + \"/Normal_Skin\" + str(cntt) + \".jpg\"\n",
        "          \n",
        "          cv2.imwrite(filename1, original)\n",
        "        \n",
        "\n",
        "\n",
        "    # original = cv2.imread(file)\n",
        "    # (imagenetID, label, prob) = P[0][0]\n",
        "    # cv2.putText(original, \"Label: {}, {:.2f}%\".format(label, prob * 100), (10, 30), \n",
        "    #             cv2.FONT_HERSHEY_SIMPLEX, 0.8, (0, 255, 0), 2)\n",
        "    # cv2_imshow(original)  \n",
        "    # cv2.waitKey(0) "
      ]
    }
  ],
  "metadata": {
    "accelerator": "GPU",
    "colab": {
      "provenance": []
    },
    "gpuClass": "standard",
    "kernelspec": {
      "display_name": "Python 3",
      "name": "python3"
    },
    "language_info": {
      "name": "python"
    }
  },
  "nbformat": 4,
  "nbformat_minor": 0
}